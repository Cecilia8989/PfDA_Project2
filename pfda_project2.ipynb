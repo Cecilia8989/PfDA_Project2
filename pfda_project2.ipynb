{
 "cells": [
  {
   "cell_type": "code",
   "execution_count": null,
   "metadata": {},
   "outputs": [],
   "source": [
    "import pandas as pd \n",
    "import seaborn as sns \n",
    "import matplotlib.pyplot as plt "
   ]
  },
  {
   "cell_type": "code",
   "execution_count": null,
   "metadata": {},
   "outputs": [],
   "source": [
    "# read from Bereiter data \n",
    "# https://sparkbyexamples.com/pandas/pandas-read-excel-multiple-sheets-in-pandas/\n",
    "bereiter_df = pd.read_excel('data\\co2\\grl52461-sup-0003-supplementary.xls', \n",
    "                            sheet_name='CO2 Composite')\n",
    "\n",
    "# Create a subset of the DataFrame (selecting all rows starting from the 14th row and all columns)\n",
    "ber_df = bereiter_df.iloc[13:]\n",
    "# drop the index columns\n",
    "# https://datagy.io/pandas-drop-index-column/\n",
    "ber_df = ber_df.reset_index(drop=True)\n",
    "\n",
    "# use first rows as an header \n",
    "# https://saturncloud.io/blog/how-to-set-column-headers-to-the-first-row-in-a-pandas-dataframe-a-comprehensive-guide/\n",
    "ber_df.columns = ber_df.iloc[0]\n",
    "\n",
    "# Drop the first row (header row) \n",
    "ber_df = ber_df.iloc[1:]\n",
    "\n",
    "ber_df \n"
   ]
  },
  {
   "cell_type": "code",
   "execution_count": null,
   "metadata": {},
   "outputs": [],
   "source": [
    "#change the datatype on flaot64 \n",
    "# https://pandas.pydata.org/docs/reference/api/pandas.DataFrame.astype.html\n",
    "ber_df = ber_df.astype('float64')\n",
    "\n",
    "# Remove leading and trailing spaces from column names\n",
    "ber_df.columns = ber_df.columns.str.strip()"
   ]
  },
  {
   "cell_type": "code",
   "execution_count": null,
   "metadata": {},
   "outputs": [],
   "source": [
    "# add a new columns \"Year\" showing the corrent year.\n",
    "# present is equal to 1950\n",
    "y_bp_num = 0\n",
    "\n",
    "def year_calc(row):\n",
    "    year = 1950 - row.iloc[y_bp_num]\n",
    "    return int(year)\n",
    "\n",
    "# Apply the function to create a new 'Year' column\n",
    "ber_df['Year'] = ber_df.apply(year_calc, axis=1)"
   ]
  },
  {
   "cell_type": "code",
   "execution_count": null,
   "metadata": {},
   "outputs": [],
   "source": [
    "# reorder columns index \n",
    "#https://www.geeksforgeeks.org/how-to-move-a-column-to-first-position-in-pandas-dataframe/\n",
    "\n",
    "first_column = ber_df.pop('Year') \n",
    "ber_df.insert(0, 'Year', first_column) \n",
    "\n",
    "# sort the value based on the year column \n",
    "#https://pandas.pydata.org/docs/reference/api/pandas.DataFrame.sort_values.html\n",
    "\n",
    "ber_df = ber_df.sort_values(by='Year', ascending=False)"
   ]
  },
  {
   "cell_type": "code",
   "execution_count": null,
   "metadata": {},
   "outputs": [],
   "source": [
    "# check for duplicate in the columns Gasage (yr BP)\n",
    "# https://www.statology.org/pandas-find-duplicates/\n",
    "duplicate_in_year = ber_df.duplicated(['Gasage (yr BP)'], keep=False)\n",
    "print(ber_df[duplicate_in_year])\n"
   ]
  },
  {
   "cell_type": "code",
   "execution_count": null,
   "metadata": {},
   "outputs": [],
   "source": [
    "# Checking missing values\n",
    "# https://medium.com/analytics-vidhya/python-finding-missing-values-in-a-data-frame-3030aaf0e4fd\n",
    "print(\"Missing Values\")\n",
    "print(ber_df.isnull().sum(), \"\\n\")\n",
    "\n",
    "# Checking data shape\n",
    "# https://stackoverflow.com/questions/58008120/how-to-use-format-in-python-to-print-out-the-data-shape\n",
    "print(\"Dataset Shape:\")\n",
    "print(f'Rows {ber_df.shape[0]}, Columns: {ber_df.shape[1]}')\n"
   ]
  },
  {
   "cell_type": "code",
   "execution_count": null,
   "metadata": {},
   "outputs": [],
   "source": [
    "# plot the CO2 (ppmv) vs Gasage (yr BP)\n",
    "\n",
    "# Set the style\n",
    "sns.set_style(\"darkgrid\")\n",
    "\n",
    "# Set the size of the figure\n",
    "plt.figure(figsize=(9, 5))\n",
    "\n",
    "# Create the line plot\n",
    "sns.lineplot(x='Gasage (yr BP)', y='CO2 (ppmv)', data=ber_df)\n",
    "\n",
    "# Add labels and title\n",
    "plt.xlabel('Gas Age (years BP)')\n",
    "plt.ylabel('CO2 Concentration (ppmv)')\n",
    "plt.title('CO2 Concentration Over Time', fontweight='bold', color='blue')\n",
    "\n",
    "# Improve spacing\n",
    "plt.tight_layout()\n",
    "\n",
    "# Show the plot\n",
    "plt.show()\n",
    "\n"
   ]
  },
  {
   "cell_type": "code",
   "execution_count": null,
   "metadata": {},
   "outputs": [],
   "source": [
    "# read from IPCC dataser\n",
    "ipcc_data_co2 = pd.read_excel('data/co2/41586_2008_BFnature06949_MOESM31_ESM.xls', \n",
    "                            sheet_name='3.  Composite CO2')\n",
    "\n",
    "# Create a subset of the DataFrame (selecting all rows starting from the 14th row and all columns)\n",
    "ipcc_df_co2 = ipcc_data_co2.iloc[5:]\n",
    "\n",
    "# drop the index columns\n",
    "ipcc_df_co2 = ipcc_df.reset_index(drop=True)\n",
    "\n",
    "# use first rows as an header \n",
    "#ipcc_df_co2.columns = ipcc_df_co2.iloc[0]\n",
    "\n",
    "# Drop the first row (header row) \n",
    "ipcc_df_co2 = ipcc_df_co2.iloc[1:]\n",
    "\n",
    "ipcc_df_co2"
   ]
  },
  {
   "cell_type": "code",
   "execution_count": null,
   "metadata": {},
   "outputs": [],
   "source": [
    "#change the datatype on flaot64 \n",
    "# https://pandas.pydata.org/docs/reference/api/pandas.DataFrame.astype.html\n",
    "ipcc_df = ber_df.astype('float64')\n",
    "\n",
    "# Remove leading and trailing spaces from column names\n",
    "ber_df.columns = ber_df.columns.str.strip()"
   ]
  },
  {
   "cell_type": "code",
   "execution_count": null,
   "metadata": {},
   "outputs": [],
   "source": [
    "print(ber_df['Year'].dtype)"
   ]
  },
  {
   "cell_type": "markdown",
   "metadata": {},
   "source": []
  }
 ],
 "metadata": {
  "kernelspec": {
   "display_name": "base",
   "language": "python",
   "name": "python3"
  },
  "language_info": {
   "codemirror_mode": {
    "name": "ipython",
    "version": 3
   },
   "file_extension": ".py",
   "mimetype": "text/x-python",
   "name": "python",
   "nbconvert_exporter": "python",
   "pygments_lexer": "ipython3",
   "version": "3.11.4"
  }
 },
 "nbformat": 4,
 "nbformat_minor": 2
}
